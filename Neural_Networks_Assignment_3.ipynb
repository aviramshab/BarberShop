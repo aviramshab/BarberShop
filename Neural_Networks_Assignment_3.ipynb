{
  "nbformat": 4,
  "nbformat_minor": 0,
  "metadata": {
    "colab": {
      "provenance": [],
      "include_colab_link": true
    },
    "kernelspec": {
      "name": "python3",
      "display_name": "Python 3"
    },
    "language_info": {
      "name": "python"
    },
    "accelerator": "GPU"
  },
  "cells": [
    {
      "cell_type": "markdown",
      "metadata": {
        "id": "view-in-github",
        "colab_type": "text"
      },
      "source": [
        "<a href=\"https://colab.research.google.com/github/aviramshab/BarberShop/blob/main/Neural_Networks_Assignment_3.ipynb\" target=\"_parent\"><img src=\"https://colab.research.google.com/assets/colab-badge.svg\" alt=\"Open In Colab\"/></a>"
      ]
    },
    {
      "cell_type": "markdown",
      "metadata": {
        "id": "kYYoljpTEjVx"
      },
      "source": [
        "# Neural Networks - Assignment 3"
      ]
    },
    {
      "cell_type": "code",
      "metadata": {
        "id": "kRrRUaClEX9I"
      },
      "source": [
        "#pytorch\n",
        "\n",
        "import torch\n",
        "from torch import nn\n",
        "from torch.optim import Adam\n",
        "from torchvision import datasets\n",
        "from torchsummary import summary\n",
        "import torchvision.transforms as transforms\n",
        "from torch.utils.data import DataLoader, SubsetRandomSampler\n",
        "\n",
        "# other imports\n",
        "import random\n",
        "import numpy as np\n",
        "from collections import OrderedDict\n",
        "from sklearn import metrics\n",
        "from functools import reduce\n",
        "from itertools import chain\n",
        "import matplotlib.pyplot as plt\n",
        "from IPython.display import display, Markdown\n",
        "from timeit import default_timer as timer\n",
        "from tqdm import tqdm\n",
        "from typing import List\n",
        "import traceback\n",
        "\n",
        "# plt settings\n",
        "plt.rcParams[\"font.size\"] = 15\n",
        "plt.rcParams[\"axes.labelsize\"] = 15\n",
        "plt.rcParams[\"xtick.labelsize\"] = 15\n",
        "plt.rcParams[\"ytick.labelsize\"] = 15\n",
        "plt.rcParams[\"legend.fontsize\"] = 15\n",
        "plt.rcParams[\"legend.markerscale\"] = 0.8\n",
        "plt.rcParams['lines.markersize'] = 10\n",
        "plt.rcParams[\"figure.figsize\"] = (20, 10)\n",
        "plt.rcParams[\"legend.title_fontsize\"] = 10"
      ],
      "execution_count": null,
      "outputs": []
    },
    {
      "cell_type": "markdown",
      "source": [
        "**<u>Reproducibility</u>**"
      ],
      "metadata": {
        "id": "RFccgsia9UM3"
      }
    },
    {
      "cell_type": "code",
      "source": [
        "numpy_rng = np.random.default_rng(42)\n",
        "cpu_rng = torch.manual_seed(42)\n",
        "gpu_rng = torch.cuda.manual_seed(42)"
      ],
      "metadata": {
        "id": "3gQkKimU9Tky"
      },
      "execution_count": null,
      "outputs": []
    },
    {
      "cell_type": "markdown",
      "source": [
        "CUDA and device settings - used for transitioning to GPU computation"
      ],
      "metadata": {
        "id": "HgkOk6Rca8wZ"
      }
    },
    {
      "cell_type": "code",
      "source": [
        "torch.cuda.empty_cache() # For safety measures"
      ],
      "metadata": {
        "id": "q5YAPaika6lq"
      },
      "execution_count": null,
      "outputs": []
    },
    {
      "cell_type": "markdown",
      "source": [
        "Constants and Global Variables"
      ],
      "metadata": {
        "id": "7xF0t1gEBIsR"
      }
    },
    {
      "cell_type": "code",
      "source": [
        "image_normalize = lambda x : x / 255.\n",
        "device = torch.device(\"cuda:0\" if torch.cuda.is_available() else \"cpu\")\n",
        "image_dimension = 28*28\n",
        "batch_size = 50\n",
        "batch_count = 13000\n",
        "train_size = 50000 # 1000 train batches;\n",
        "num_epochs = 13\n",
        "lr, conv_lr = 0.01, 1e-3\n",
        "label_names = [f\"Label: {_}\" for _ in range(10)]\n",
        "activation_dict = {}"
      ],
      "metadata": {
        "id": "HPA1rFn1BF-s"
      },
      "execution_count": null,
      "outputs": []
    },
    {
      "cell_type": "code",
      "source": [
        "print(device.type)"
      ],
      "metadata": {
        "colab": {
          "base_uri": "https://localhost:8080/"
        },
        "id": "lUTO1CDFjAG4",
        "outputId": "96a855dc-0921-4d73-f1f5-ca68296dfc68"
      },
      "execution_count": null,
      "outputs": [
        {
          "output_type": "stream",
          "name": "stdout",
          "text": [
            "cuda\n"
          ]
        }
      ]
    },
    {
      "cell_type": "markdown",
      "source": [
        "## **Data Retrieval**"
      ],
      "metadata": {
        "id": "Nj7Lcxdjzps2"
      }
    },
    {
      "cell_type": "code",
      "metadata": {
        "id": "wEZuiUhv7lJk"
      },
      "source": [
        "all_train_data = datasets.MNIST(root='/files/', # origin/target directory for the dataset\n",
        "                                download=True,  # downloads the dataset from the internet\n",
        "                                train=True,     # creates the dataset from 'training.pt'\n",
        "                                transform=transforms.Compose([transforms.ToTensor(), transforms.Lambda(image_normalize)]),)\n",
        "\n",
        "test_data = datasets.MNIST(root='/files/', # origin/target directory for the dataset\n",
        "                                download=True,  # downloads the dataset from the internet\n",
        "                                train=False,     # creates the dataset from 'test.pt'\n",
        "                                transform=transforms.Compose([transforms.ToTensor(), transforms.Lambda(image_normalize)]),)\n",
        "\n",
        "indices = list(range(len(all_train_data)))\n",
        "numpy_rng.shuffle(indices)\n",
        "\n",
        "train_indices, validation_indices = np.split(indices, [train_size])\n",
        "\n",
        "train_loader = DataLoader(all_train_data,\n",
        "                          batch_size=batch_size,\n",
        "                          sampler=SubsetRandomSampler(train_indices,generator=cpu_rng),\n",
        "                          num_workers=1,\n",
        "                          pin_memory=(device.type == \"cuda\"),\n",
        "                          persistent_workers=True,);\n",
        "\n",
        "validation_loader = DataLoader(all_train_data,\n",
        "                               batch_size=batch_size,\n",
        "                               sampler=SubsetRandomSampler(validation_indices, generator=cpu_rng),\n",
        "                               num_workers=1,\n",
        "                               pin_memory=(device.type == \"cuda\"),\n",
        "                               persistent_workers=True,);\n",
        "\n",
        "test_loader = DataLoader(test_data,\n",
        "                         num_workers=1,\n",
        "                         pin_memory=(device.type == \"cuda\"),\n",
        "                         persistent_workers=True,)\n",
        "\n",
        "data_loaders = {\"train\": train_loader, \"validation\": validation_loader, \"test\": test_loader}"
      ],
      "execution_count": null,
      "outputs": []
    },
    {
      "cell_type": "markdown",
      "source": [
        "## **Functions and Metrics**"
      ],
      "metadata": {
        "id": "fO7QyKfo2ofO"
      }
    },
    {
      "cell_type": "code",
      "source": [],
      "metadata": {
        "id": "avZUAXO64YHu"
      },
      "execution_count": null,
      "outputs": []
    },
    {
      "cell_type": "code",
      "source": [
        "def init_conv2d_weights(model):\n",
        "    if isinstance(model, nn.Conv2d):\n",
        "        nn.init.xavier_normal_(model.weight)\n",
        "        model.weight = nn.Parameter(torch.abs(model.weight))\n",
        "        model.bias.data.fill_(0.01)"
      ],
      "metadata": {
        "id": "z12jYsH-4dwQ"
      },
      "execution_count": null,
      "outputs": []
    },
    {
      "cell_type": "code",
      "source": [
        "def predict(model:nn.Module, x):\n",
        "    return model(x)\n",
        "\n",
        "\n",
        "def score(y:torch.Tensor, t:torch.Tensor):\n",
        "    return metrics.classification_report(t.detach().to(\"cpu\"), y.detach().to(\"cpu\"), target_names=label_names)\n",
        "\n",
        "\n",
        "def init_conv2d_weights(model):\n",
        "    if isinstance(model, nn.Conv2d):\n",
        "        nn.init.xavier_normal_(model.weight)\n",
        "        model.weight = nn.Parameter(torch.abs(model.weight))\n",
        "        model.bias.data.fill_(0.01)\n",
        "\n",
        "\n",
        "def conv_image(axes, model: nn.Sequential, batch, layer: int=1, channel: int=1, after_activation=True):\n",
        "    position = \"After\" if after_activation else \"Before\"\n",
        "    get_channel_image(axes, model, batch, layer, channel, position) \n",
        "\n",
        "\n",
        "def get_channel_image(axes, model: nn.Conv2d, batch, layer, channel, position):\n",
        "    def hook(module, input, output):\n",
        "        activation_dict[f\"{layer}|{channel}|Before ReLU\"] = input[0].detach()\n",
        "        activation_dict[f\"{layer}|{channel}|After ReLU\"] = output.detach()\n",
        "    \n",
        "    handle = model[layer].register_forward_hook(hook)\n",
        "    predict(model, batch.to(device))\n",
        "    handle.remove()\n",
        "    channel_filter = activation_dict[f\"{layer}|{channel}|{position} ReLU\"][0][0]\n",
        "    \n",
        "    axes.set_title(f\"Layer {layer}, Channel {channel},{position} ReLU\")\n",
        "    axes.imshow(channel_filter.cpu(), cmap = \"gray\")\n",
        "\n",
        "\n",
        "def get_weight_image(axes, model: nn.Sequential , layer, channel):\n",
        "    weights = model[layer].weight.data\n",
        "    filters = weights[channel][0]\n",
        "\n",
        "    # Normalizing filter values to [0, 1] for visualization\n",
        "    minFilter, maxFilter = filters.min(), filters.max()\n",
        "    filters = (filters - minFilter) / (maxFilter - minFilter)\n",
        "\n",
        "    axes.set_title(f\"layer {layer}, channel {channel}\")\n",
        "    axes.imshow(filters.cpu(), cmap = \"gray\")\n",
        "\n",
        "def train(model: nn.Sequential, learning_rate):\n",
        "    optimizer = Adam(params=model.parameters(),\n",
        "                     lr=learning_rate)\n",
        "    loss = nn.CrossEntropyLoss().to(device)\n",
        "    start = timer()\n",
        "    for epoch in range(num_epochs):\n",
        "        for batch_idx, (images, labels) in enumerate(train_loader):\n",
        "            images, labels = images.to(device), labels.to(device)\n",
        "            predictions = model(images)\n",
        "            cross_entropy = loss(predictions, labels)\n",
        "            optimizer.zero_grad()\n",
        "            cross_entropy.backward()\n",
        "            optimizer.step()\n",
        "\n",
        "    end = timer()\n",
        "    print(f\"time taken: {(end-start):.3f} second(s)\".format())\n",
        "\n",
        "\n",
        "def get_scores(model: nn.Sequential):\n",
        "    scores = {}\n",
        "    for key, loader in data_loaders.items():\n",
        "        predictions = []\n",
        "        labels = []\n",
        "        for batch_idx, (batch, batch_labels) in enumerate(loader):\n",
        "            \n",
        "            batch, batch_labels = batch.to(device), batch_labels.to(device)\n",
        "            labels.append(torch.split(batch_labels, 1))\n",
        "\n",
        "            batch_predictions = torch.argmax(predict(model, batch), axis=1)\n",
        "            predictions.append(torch.split(batch_predictions, 1))\n",
        "        y = torch.stack(tuple(chain.from_iterable(predictions)))\n",
        "        t = torch.stack(tuple(chain.from_iterable(labels)))\n",
        "\n",
        "        dataset_score = score(y, t)\n",
        "        scores[key] = dataset_score\n",
        "    return scores\n",
        "\n",
        "    scores = OrderedDict()\n",
        "\n",
        "\n",
        "\n",
        "def print_report(model: nn.Sequential, has_convolution=False, conv_layers_to_print: List[int]=None):\n",
        "    summary(model, (1,28,28))\n",
        "    scores = get_scores(model)\n",
        "    \n",
        "    print(\"model scores:\")\n",
        "    for set_name, set_score in scores.items():\n",
        "        print(f\"data set: {set_name}\\n{set_score}\")\n",
        "\n",
        "    if has_convolution:\n",
        "        fig, ax = plt.subplots(ncols=5, figsize=plt.figaspect(.2))\n",
        "        \n",
        "        fig.suptitle(\"weight visualization:\")\n",
        "        for i, axi in enumerate(ax):\n",
        "            get_weight_image(axi, model, 0, i)\n",
        "        plt.axis(\"off\")\n",
        "        plt.show()\n",
        "        sample = next(iter(test_loader))\n",
        "        batch = sample[0]\n",
        "        \n",
        "        fig, ax = plt.subplots(ncols=1+len(conv_layers_to_print)*2, figsize=plt.figaspect(.2))\n",
        "        ax[0].set_title(f\"Label:{sample[1]}\")\n",
        "        ax[0].imshow(batch[0][0], cmap=\"gray\")\n",
        "        j=1\n",
        "        for i in conv_layers_to_print:\n",
        "            conv_image(ax[j], model, batch, i, 0, after_activation=False)\n",
        "            conv_image(ax[j+1], model, batch, i, 0, after_activation=True)\n",
        "            j+=2\n",
        "\n",
        "        plt.axis(\"off\")\n",
        "        plt.show()"
      ],
      "metadata": {
        "id": "8-r6YoSn7F8M"
      },
      "execution_count": null,
      "outputs": []
    },
    {
      "cell_type": "markdown",
      "source": [
        "## Model 1:\n",
        "- linear layer with 1000 neurons"
      ],
      "metadata": {
        "id": "17Is_9opd63k"
      }
    },
    {
      "cell_type": "code",
      "source": [
        "model_1 = nn.Sequential(\n",
        "    nn.Flatten(), \n",
        "    nn.Linear(in_features=image_dimension, out_features=10),                                               \n",
        ")\n",
        "\n",
        "model_1 = model_1.to(device)\n",
        "train(model_1, lr)\n",
        "print_report(model_1, False)"
      ],
      "metadata": {
        "colab": {
          "base_uri": "https://localhost:8080/"
        },
        "id": "c4pf4ZfNfj2E",
        "outputId": "887e883f-55f1-43d9-eb43-4205e1ff0f17"
      },
      "execution_count": null,
      "outputs": [
        {
          "output_type": "stream",
          "name": "stdout",
          "text": [
            "time taken: 158.492 second(s)\n",
            "----------------------------------------------------------------\n",
            "        Layer (type)               Output Shape         Param #\n",
            "================================================================\n",
            "           Flatten-1                  [-1, 784]               0\n",
            "            Linear-2                   [-1, 10]           7,850\n",
            "================================================================\n",
            "Total params: 7,850\n",
            "Trainable params: 7,850\n",
            "Non-trainable params: 0\n",
            "----------------------------------------------------------------\n",
            "Input size (MB): 0.00\n",
            "Forward/backward pass size (MB): 0.01\n",
            "Params size (MB): 0.03\n",
            "Estimated Total Size (MB): 0.04\n",
            "----------------------------------------------------------------\n",
            "model scores:\n",
            "data set: train\n",
            "              precision    recall  f1-score   support\n",
            "\n",
            "    Label: 0       0.95      0.96      0.95      4927\n",
            "    Label: 1       0.91      0.96      0.94      5594\n",
            "    Label: 2       0.91      0.86      0.88      4959\n",
            "    Label: 3       0.88      0.87      0.87      5126\n",
            "    Label: 4       0.91      0.91      0.91      4923\n",
            "    Label: 5       0.87      0.83      0.85      4516\n",
            "    Label: 6       0.92      0.95      0.93      4938\n",
            "    Label: 7       0.92      0.92      0.92      5201\n",
            "    Label: 8       0.86      0.84      0.85      4865\n",
            "    Label: 9       0.86      0.88      0.87      4951\n",
            "\n",
            "    accuracy                           0.90     50000\n",
            "   macro avg       0.90      0.90      0.90     50000\n",
            "weighted avg       0.90      0.90      0.90     50000\n",
            "\n",
            "data set: validation\n",
            "              precision    recall  f1-score   support\n",
            "\n",
            "    Label: 0       0.95      0.96      0.95       996\n",
            "    Label: 1       0.91      0.97      0.94      1148\n",
            "    Label: 2       0.91      0.85      0.88       999\n",
            "    Label: 3       0.88      0.89      0.88      1005\n",
            "    Label: 4       0.89      0.92      0.90       919\n",
            "    Label: 5       0.89      0.83      0.86       905\n",
            "    Label: 6       0.92      0.94      0.93       980\n",
            "    Label: 7       0.90      0.92      0.91      1064\n",
            "    Label: 8       0.86      0.85      0.85       986\n",
            "    Label: 9       0.87      0.86      0.87       998\n",
            "\n",
            "    accuracy                           0.90     10000\n",
            "   macro avg       0.90      0.90      0.90     10000\n",
            "weighted avg       0.90      0.90      0.90     10000\n",
            "\n",
            "data set: test\n",
            "              precision    recall  f1-score   support\n",
            "\n",
            "    Label: 0       0.94      0.98      0.96       980\n",
            "    Label: 1       0.94      0.97      0.95      1135\n",
            "    Label: 2       0.93      0.86      0.89      1032\n",
            "    Label: 3       0.88      0.90      0.89      1010\n",
            "    Label: 4       0.89      0.92      0.91       982\n",
            "    Label: 5       0.89      0.83      0.86       892\n",
            "    Label: 6       0.92      0.94      0.93       958\n",
            "    Label: 7       0.92      0.90      0.91      1028\n",
            "    Label: 8       0.86      0.87      0.87       974\n",
            "    Label: 9       0.88      0.88      0.88      1009\n",
            "\n",
            "    accuracy                           0.91     10000\n",
            "   macro avg       0.91      0.91      0.91     10000\n",
            "weighted avg       0.91      0.91      0.91     10000\n",
            "\n"
          ]
        }
      ]
    },
    {
      "cell_type": "markdown",
      "source": [
        "## Model 2: \n",
        "- 2 fully connected layers with 200 neurons each + ReLU activation"
      ],
      "metadata": {
        "id": "CbsylRnglmIa"
      }
    },
    {
      "cell_type": "code",
      "source": [
        "model_2 = nn.Sequential(\n",
        "    nn.Flatten(),\n",
        "    nn.Linear(in_features=image_dimension, out_features=200),\n",
        "    nn.ReLU(), \n",
        "    nn.Linear(in_features=200, out_features=200),\n",
        "    nn.ReLU(), \n",
        "    nn.Linear(in_features=200, out_features=10),\n",
        "    )\n",
        "\n",
        "model_2 = model_2.to(device)\n",
        "train(model_2, lr)\n",
        "print_report(model_2, False)"
      ],
      "metadata": {
        "id": "1IX-hGFIm5Uq",
        "colab": {
          "base_uri": "https://localhost:8080/"
        },
        "outputId": "439df70b-ba23-4bd9-8cf2-96cf30b34417"
      },
      "execution_count": null,
      "outputs": [
        {
          "output_type": "stream",
          "name": "stdout",
          "text": [
            "time taken: 176.105 second(s)\n",
            "----------------------------------------------------------------\n",
            "        Layer (type)               Output Shape         Param #\n",
            "================================================================\n",
            "           Flatten-1                  [-1, 784]               0\n",
            "            Linear-2                  [-1, 200]         157,000\n",
            "              ReLU-3                  [-1, 200]               0\n",
            "            Linear-4                  [-1, 200]          40,200\n",
            "              ReLU-5                  [-1, 200]               0\n",
            "            Linear-6                   [-1, 10]           2,010\n",
            "================================================================\n",
            "Total params: 199,210\n",
            "Trainable params: 199,210\n",
            "Non-trainable params: 0\n",
            "----------------------------------------------------------------\n",
            "Input size (MB): 0.00\n",
            "Forward/backward pass size (MB): 0.01\n",
            "Params size (MB): 0.76\n",
            "Estimated Total Size (MB): 0.78\n",
            "----------------------------------------------------------------\n",
            "model scores:\n",
            "data set: train\n",
            "              precision    recall  f1-score   support\n",
            "\n",
            "    Label: 0       1.00      0.99      0.99      4927\n",
            "    Label: 1       0.97      1.00      0.99      5594\n",
            "    Label: 2       0.98      0.99      0.98      4959\n",
            "    Label: 3       1.00      0.96      0.98      5126\n",
            "    Label: 4       0.99      0.99      0.99      4923\n",
            "    Label: 5       0.99      0.98      0.99      4516\n",
            "    Label: 6       0.98      1.00      0.99      4938\n",
            "    Label: 7       0.99      0.99      0.99      5201\n",
            "    Label: 8       0.98      0.98      0.98      4865\n",
            "    Label: 9       0.99      0.97      0.98      4951\n",
            "\n",
            "    accuracy                           0.99     50000\n",
            "   macro avg       0.99      0.99      0.99     50000\n",
            "weighted avg       0.99      0.99      0.99     50000\n",
            "\n",
            "data set: validation\n",
            "              precision    recall  f1-score   support\n",
            "\n",
            "    Label: 0       0.98      0.97      0.97       996\n",
            "    Label: 1       0.95      0.99      0.97      1148\n",
            "    Label: 2       0.96      0.96      0.96       999\n",
            "    Label: 3       0.98      0.95      0.96      1005\n",
            "    Label: 4       0.97      0.98      0.97       919\n",
            "    Label: 5       0.96      0.96      0.96       905\n",
            "    Label: 6       0.97      0.99      0.98       980\n",
            "    Label: 7       0.98      0.97      0.97      1064\n",
            "    Label: 8       0.96      0.96      0.96       986\n",
            "    Label: 9       0.97      0.96      0.97       998\n",
            "\n",
            "    accuracy                           0.97     10000\n",
            "   macro avg       0.97      0.97      0.97     10000\n",
            "weighted avg       0.97      0.97      0.97     10000\n",
            "\n",
            "data set: test\n",
            "              precision    recall  f1-score   support\n",
            "\n",
            "    Label: 0       0.99      0.97      0.98       980\n",
            "    Label: 1       0.97      0.99      0.98      1135\n",
            "    Label: 2       0.96      0.97      0.97      1032\n",
            "    Label: 3       0.98      0.96      0.97      1010\n",
            "    Label: 4       0.98      0.98      0.98       982\n",
            "    Label: 5       0.97      0.97      0.97       892\n",
            "    Label: 6       0.96      0.98      0.97       958\n",
            "    Label: 7       0.98      0.97      0.97      1028\n",
            "    Label: 8       0.96      0.97      0.97       974\n",
            "    Label: 9       0.97      0.95      0.96      1009\n",
            "\n",
            "    accuracy                           0.97     10000\n",
            "   macro avg       0.97      0.97      0.97     10000\n",
            "weighted avg       0.97      0.97      0.97     10000\n",
            "\n"
          ]
        }
      ]
    },
    {
      "cell_type": "markdown",
      "source": [
        "## Model 3:\n",
        "- Convolution layer with 32 5x5 filters (stride=1, padding=same)\n",
        "- Max-Pooling layer: 2x2 filters (stride=2)\n",
        "- Fully connected layer with 1024 neurons + ReLU activation\n"
      ],
      "metadata": {
        "id": "re7DNBAvCOWT"
      }
    },
    {
      "cell_type": "code",
      "source": [
        "model_3 = nn.Sequential(\n",
        "    nn.Conv2d(in_channels=1, out_channels=32, kernel_size=5, stride=1, padding=\"same\"),\n",
        "    nn.ReLU(),\n",
        "    nn.MaxPool2d(kernel_size=2, stride=2),\n",
        "    nn.Flatten(),\n",
        "    nn.Linear(in_features=32*14*14, out_features=1024),\n",
        "    nn.ReLU(),\n",
        "    nn.Linear(in_features=1024, out_features=10) # output\n",
        "  )\n",
        "\n",
        "model_3.apply(init_conv2d_weights)\n",
        "model_3 = model_3.to(device)\n",
        "\n",
        "train(model_3, conv_lr)\n",
        "print_report(model_3, has_convolution=True, conv_layers_to_print=[1])"
      ],
      "metadata": {
        "id": "hlSCKsfaCs-r",
        "colab": {
          "base_uri": "https://localhost:8080/",
          "height": 1000
        },
        "outputId": "3876fd68-9b4e-4bbb-a7cc-1f7aff7e6f15"
      },
      "execution_count": null,
      "outputs": [
        {
          "output_type": "stream",
          "name": "stdout",
          "text": [
            "time taken: 179.243 second(s)\n",
            "----------------------------------------------------------------\n",
            "        Layer (type)               Output Shape         Param #\n",
            "================================================================\n",
            "            Conv2d-1           [-1, 32, 28, 28]             832\n",
            "              ReLU-2           [-1, 32, 28, 28]               0\n",
            "         MaxPool2d-3           [-1, 32, 14, 14]               0\n",
            "           Flatten-4                 [-1, 6272]               0\n",
            "            Linear-5                 [-1, 1024]       6,423,552\n",
            "              ReLU-6                 [-1, 1024]               0\n",
            "            Linear-7                   [-1, 10]          10,250\n",
            "================================================================\n",
            "Total params: 6,434,634\n",
            "Trainable params: 6,434,634\n",
            "Non-trainable params: 0\n",
            "----------------------------------------------------------------\n",
            "Input size (MB): 0.00\n",
            "Forward/backward pass size (MB): 0.49\n",
            "Params size (MB): 24.55\n",
            "Estimated Total Size (MB): 25.04\n",
            "----------------------------------------------------------------\n",
            "model scores:\n",
            "data set: train\n",
            "              precision    recall  f1-score   support\n",
            "\n",
            "    Label: 0       0.99      0.99      0.99      4927\n",
            "    Label: 1       0.99      0.99      0.99      5594\n",
            "    Label: 2       0.99      0.98      0.99      4959\n",
            "    Label: 3       0.97      0.98      0.98      5126\n",
            "    Label: 4       0.98      0.99      0.98      4923\n",
            "    Label: 5       0.99      0.98      0.98      4516\n",
            "    Label: 6       0.99      0.99      0.99      4938\n",
            "    Label: 7       0.98      0.99      0.98      5201\n",
            "    Label: 8       0.98      0.97      0.98      4865\n",
            "    Label: 9       0.98      0.97      0.97      4951\n",
            "\n",
            "    accuracy                           0.98     50000\n",
            "   macro avg       0.98      0.98      0.98     50000\n",
            "weighted avg       0.98      0.98      0.98     50000\n",
            "\n",
            "data set: validation\n",
            "              precision    recall  f1-score   support\n",
            "\n",
            "    Label: 0       0.99      0.98      0.98       996\n",
            "    Label: 1       0.98      0.99      0.98      1148\n",
            "    Label: 2       0.99      0.96      0.98       999\n",
            "    Label: 3       0.96      0.97      0.96      1005\n",
            "    Label: 4       0.96      0.98      0.97       919\n",
            "    Label: 5       0.96      0.97      0.96       905\n",
            "    Label: 6       0.98      0.99      0.98       980\n",
            "    Label: 7       0.97      0.98      0.97      1064\n",
            "    Label: 8       0.97      0.95      0.96       986\n",
            "    Label: 9       0.96      0.95      0.96       998\n",
            "\n",
            "    accuracy                           0.97     10000\n",
            "   macro avg       0.97      0.97      0.97     10000\n",
            "weighted avg       0.97      0.97      0.97     10000\n",
            "\n",
            "data set: test\n",
            "              precision    recall  f1-score   support\n",
            "\n",
            "    Label: 0       0.98      0.98      0.98       980\n",
            "    Label: 1       0.98      0.99      0.99      1135\n",
            "    Label: 2       0.99      0.97      0.98      1032\n",
            "    Label: 3       0.96      0.98      0.97      1010\n",
            "    Label: 4       0.97      0.98      0.98       982\n",
            "    Label: 5       0.97      0.97      0.97       892\n",
            "    Label: 6       0.98      0.98      0.98       958\n",
            "    Label: 7       0.97      0.98      0.98      1028\n",
            "    Label: 8       0.97      0.96      0.96       974\n",
            "    Label: 9       0.97      0.96      0.97      1009\n",
            "\n",
            "    accuracy                           0.98     10000\n",
            "   macro avg       0.98      0.98      0.98     10000\n",
            "weighted avg       0.98      0.98      0.98     10000\n",
            "\n"
          ]
        },
        {
          "output_type": "display_data",
          "data": {
            "image/png": "[encoded data removed]",
            "text/plain": [
              "<Figure size 1152x230.4 with 5 Axes>"
            ]
          },
          "metadata": {
            "needs_background": "light"
          }
        },
        {
          "output_type": "display_data",
          "data": {
            "image/png": "[encoded data removed]",
            "text/plain": [
              "<Figure size 1152x230.4 with 3 Axes>"
            ]
          },
          "metadata": {
            "needs_background": "light"
          }
        }
      ]
    },
    {
      "cell_type": "markdown",
      "source": [
        "## Model 4:\n",
        "- Convolution layer with 32 5x5 filters (stride=1, padding=same)\n",
        "- Max-Pooling layer: 2x2 filters (stride=2)\n",
        "- Convolution layer with 64 5x5 filters (stride=1, padding=same)\n",
        "- Max-Pooling layer: 2x2 filters (stride=2)\n",
        "- Fully connected layer with 1024 neurons + ReLU activation\n"
      ],
      "metadata": {
        "id": "7Ui3D11-JLPR"
      }
    },
    {
      "cell_type": "code",
      "source": [
        "model_4 = nn.Sequential(\n",
        "    nn.Conv2d(in_channels=1, out_channels=32, kernel_size=5, stride=1, padding=\"same\"),\n",
        "    nn.ReLU(),\n",
        "    nn.MaxPool2d(kernel_size=2, stride=2),\n",
        "    nn.Conv2d(in_channels=32, out_channels=64, kernel_size=5, stride=1, padding=\"same\"),\n",
        "    nn.ReLU(),\n",
        "    nn.MaxPool2d(kernel_size=2, stride=2),\n",
        "    nn.Flatten(),\n",
        "    nn.Linear(in_features=64*7*7, out_features=1024),\n",
        "    nn.ReLU(),\n",
        "    nn.Linear(in_features=1024, out_features=10) # output\n",
        "  )\n",
        "\n",
        "model_4.apply(init_conv2d_weights)\n",
        "model_4 = model_4.to(device)\n",
        "\n",
        "train(model_4, conv_lr)\n",
        "print_report(model_4, has_convolution=True, conv_layers_to_print=[1, 4])"
      ],
      "metadata": {
        "id": "DOdLaLG3JdGa",
        "colab": {
          "base_uri": "https://localhost:8080/",
          "height": 1000
        },
        "outputId": "14ba4ba6-0d07-4eb2-b34e-744ca54db2d8"
      },
      "execution_count": null,
      "outputs": [
        {
          "output_type": "stream",
          "name": "stdout",
          "text": [
            "time taken: 192.337 second(s)\n",
            "----------------------------------------------------------------\n",
            "        Layer (type)               Output Shape         Param #\n",
            "================================================================\n",
            "            Conv2d-1           [-1, 32, 28, 28]             832\n",
            "              ReLU-2           [-1, 32, 28, 28]               0\n",
            "         MaxPool2d-3           [-1, 32, 14, 14]               0\n",
            "            Conv2d-4           [-1, 64, 14, 14]          51,264\n",
            "              ReLU-5           [-1, 64, 14, 14]               0\n",
            "         MaxPool2d-6             [-1, 64, 7, 7]               0\n",
            "           Flatten-7                 [-1, 3136]               0\n",
            "            Linear-8                 [-1, 1024]       3,212,288\n",
            "              ReLU-9                 [-1, 1024]               0\n",
            "           Linear-10                   [-1, 10]          10,250\n",
            "================================================================\n",
            "Total params: 3,274,634\n",
            "Trainable params: 3,274,634\n",
            "Non-trainable params: 0\n",
            "----------------------------------------------------------------\n",
            "Input size (MB): 0.00\n",
            "Forward/backward pass size (MB): 0.69\n",
            "Params size (MB): 12.49\n",
            "Estimated Total Size (MB): 13.18\n",
            "----------------------------------------------------------------\n",
            "model scores:\n",
            "data set: train\n",
            "              precision    recall  f1-score   support\n",
            "\n",
            "    Label: 0       1.00      1.00      1.00      4927\n",
            "    Label: 1       1.00      1.00      1.00      5594\n",
            "    Label: 2       1.00      1.00      1.00      4959\n",
            "    Label: 3       1.00      0.99      0.99      5126\n",
            "    Label: 4       1.00      1.00      1.00      4923\n",
            "    Label: 5       0.99      1.00      0.99      4516\n",
            "    Label: 6       1.00      1.00      1.00      4938\n",
            "    Label: 7       0.99      1.00      1.00      5201\n",
            "    Label: 8       1.00      0.99      1.00      4865\n",
            "    Label: 9       1.00      0.99      1.00      4951\n",
            "\n",
            "    accuracy                           1.00     50000\n",
            "   macro avg       1.00      1.00      1.00     50000\n",
            "weighted avg       1.00      1.00      1.00     50000\n",
            "\n",
            "data set: validation\n",
            "              precision    recall  f1-score   support\n",
            "\n",
            "    Label: 0       0.99      0.99      0.99       996\n",
            "    Label: 1       0.99      0.99      0.99      1148\n",
            "    Label: 2       0.99      0.98      0.99       999\n",
            "    Label: 3       0.99      0.98      0.98      1005\n",
            "    Label: 4       0.98      0.99      0.98       919\n",
            "    Label: 5       0.98      0.99      0.98       905\n",
            "    Label: 6       0.99      0.99      0.99       980\n",
            "    Label: 7       0.98      0.99      0.99      1064\n",
            "    Label: 8       0.99      0.98      0.98       986\n",
            "    Label: 9       0.99      0.98      0.98       998\n",
            "\n",
            "    accuracy                           0.99     10000\n",
            "   macro avg       0.99      0.99      0.99     10000\n",
            "weighted avg       0.99      0.99      0.99     10000\n",
            "\n",
            "data set: test\n",
            "              precision    recall  f1-score   support\n",
            "\n",
            "    Label: 0       0.99      0.99      0.99       980\n",
            "    Label: 1       0.99      1.00      0.99      1135\n",
            "    Label: 2       0.99      0.99      0.99      1032\n",
            "    Label: 3       0.99      0.99      0.99      1010\n",
            "    Label: 4       0.99      0.99      0.99       982\n",
            "    Label: 5       0.98      0.99      0.99       892\n",
            "    Label: 6       0.99      0.99      0.99       958\n",
            "    Label: 7       0.98      0.99      0.98      1028\n",
            "    Label: 8       0.99      0.98      0.98       974\n",
            "    Label: 9       0.99      0.98      0.98      1009\n",
            "\n",
            "    accuracy                           0.99     10000\n",
            "   macro avg       0.99      0.99      0.99     10000\n",
            "weighted avg       0.99      0.99      0.99     10000\n",
            "\n"
          ]
        },
        {
          "output_type": "display_data",
          "data": {
            "image/png": "[encoded data removed]",
            "text/plain": [
              "<Figure size 1152x230.4 with 5 Axes>"
            ]
          },
          "metadata": {
            "needs_background": "light"
          }
        },
        {
          "output_type": "display_data",
          "data": {
            "image/png": "[encoded data removed]",
            "text/plain": [
              "<Figure size 1152x230.4 with 5 Axes>"
            ]
          },
          "metadata": {
            "needs_background": "light"
          }
        }
      ]
    },
    {
      "cell_type": "markdown",
      "source": [
        "## Model 5:\n",
        "- Convolution layer with 32 5x5 filters (stride=1, padding=same)\n",
        "- Max-Pooling layer: 2x2 filters (stride=2)\n",
        "- Convolution layer with 64 5x5 filters (stride=1, padding=same)\n",
        "- Max-Pooling layer: 2x2 filters (stride=2)\n",
        "- Fully connected layer (dropout=0.5) with 1024 neurons + ReLU activation\n"
      ],
      "metadata": {
        "id": "ZFC0L20QK3b0"
      }
    },
    {
      "cell_type": "markdown",
      "source": [
        "part 1: with batch size 50"
      ],
      "metadata": {
        "id": "RRPTxND1Sn3Q"
      }
    },
    {
      "cell_type": "code",
      "source": [
        "model_5 = nn.Sequential(\n",
        "    nn.Conv2d(in_channels=1, out_channels=32, kernel_size=5, stride=1, padding=\"same\"),\n",
        "    nn.ReLU(),\n",
        "    nn.MaxPool2d(kernel_size=2, stride=2),\n",
        "    nn.Conv2d(in_channels=32, out_channels=64, kernel_size=5, stride=1, padding=\"same\"),\n",
        "    nn.ReLU(),\n",
        "    nn.MaxPool2d(kernel_size=2, stride=2),\n",
        "    nn.Flatten(),\n",
        "    nn.Dropout(p=0.5),\n",
        "    nn.Linear(in_features=64*7*7, out_features=1024),\n",
        "    nn.ReLU(),\n",
        "    nn.Linear(in_features=1024, out_features=10) # output\n",
        "  )\n",
        "\n",
        "model_5.apply(init_conv2d_weights)\n",
        "model_5 = model_5.to(device)\n",
        "\n",
        "train(model_5, conv_lr)\n",
        "print_report(model_5, has_convolution=True, conv_layers_to_print=[1, 4])"
      ],
      "metadata": {
        "id": "hu5bzl4pK3b1",
        "colab": {
          "base_uri": "https://localhost:8080/",
          "height": 1000
        },
        "outputId": "ffc92e15-afeb-4079-9139-2a4457da70b2"
      },
      "execution_count": null,
      "outputs": [
        {
          "output_type": "stream",
          "name": "stdout",
          "text": [
            "time taken: 192.954 second(s)\n",
            "----------------------------------------------------------------\n",
            "        Layer (type)               Output Shape         Param #\n",
            "================================================================\n",
            "            Conv2d-1           [-1, 32, 28, 28]             832\n",
            "              ReLU-2           [-1, 32, 28, 28]               0\n",
            "         MaxPool2d-3           [-1, 32, 14, 14]               0\n",
            "            Conv2d-4           [-1, 64, 14, 14]          51,264\n",
            "              ReLU-5           [-1, 64, 14, 14]               0\n",
            "         MaxPool2d-6             [-1, 64, 7, 7]               0\n",
            "           Flatten-7                 [-1, 3136]               0\n",
            "           Dropout-8                 [-1, 3136]               0\n",
            "            Linear-9                 [-1, 1024]       3,212,288\n",
            "             ReLU-10                 [-1, 1024]               0\n",
            "           Linear-11                   [-1, 10]          10,250\n",
            "================================================================\n",
            "Total params: 3,274,634\n",
            "Trainable params: 3,274,634\n",
            "Non-trainable params: 0\n",
            "----------------------------------------------------------------\n",
            "Input size (MB): 0.00\n",
            "Forward/backward pass size (MB): 0.71\n",
            "Params size (MB): 12.49\n",
            "Estimated Total Size (MB): 13.20\n",
            "----------------------------------------------------------------\n",
            "model scores:\n",
            "data set: train\n",
            "              precision    recall  f1-score   support\n",
            "\n",
            "    Label: 0       1.00      1.00      1.00      4927\n",
            "    Label: 1       0.99      1.00      0.99      5594\n",
            "    Label: 2       0.98      1.00      0.99      4959\n",
            "    Label: 3       1.00      0.99      0.99      5126\n",
            "    Label: 4       1.00      0.99      0.99      4923\n",
            "    Label: 5       0.99      1.00      0.99      4516\n",
            "    Label: 6       0.99      1.00      1.00      4938\n",
            "    Label: 7       0.99      0.99      0.99      5201\n",
            "    Label: 8       1.00      0.98      0.99      4865\n",
            "    Label: 9       0.98      0.99      0.99      4951\n",
            "\n",
            "    accuracy                           0.99     50000\n",
            "   macro avg       0.99      0.99      0.99     50000\n",
            "weighted avg       0.99      0.99      0.99     50000\n",
            "\n",
            "data set: validation\n",
            "              precision    recall  f1-score   support\n",
            "\n",
            "    Label: 0       0.99      0.99      0.99       996\n",
            "    Label: 1       0.99      0.99      0.99      1148\n",
            "    Label: 2       0.99      0.99      0.99       999\n",
            "    Label: 3       0.99      0.98      0.98      1005\n",
            "    Label: 4       0.99      0.98      0.99       919\n",
            "    Label: 5       0.98      0.99      0.98       905\n",
            "    Label: 6       0.98      0.99      0.99       980\n",
            "    Label: 7       0.97      0.99      0.98      1064\n",
            "    Label: 8       0.99      0.96      0.97       986\n",
            "    Label: 9       0.98      0.98      0.98       998\n",
            "\n",
            "    accuracy                           0.98     10000\n",
            "   macro avg       0.98      0.98      0.98     10000\n",
            "weighted avg       0.98      0.98      0.98     10000\n",
            "\n",
            "data set: test\n",
            "              precision    recall  f1-score   support\n",
            "\n",
            "    Label: 0       0.99      0.99      0.99       980\n",
            "    Label: 1       0.99      1.00      0.99      1135\n",
            "    Label: 2       0.98      0.99      0.99      1032\n",
            "    Label: 3       0.99      0.99      0.99      1010\n",
            "    Label: 4       0.99      0.98      0.99       982\n",
            "    Label: 5       0.98      0.99      0.98       892\n",
            "    Label: 6       0.99      0.98      0.99       958\n",
            "    Label: 7       0.99      0.99      0.99      1028\n",
            "    Label: 8       0.99      0.97      0.98       974\n",
            "    Label: 9       0.97      0.98      0.98      1009\n",
            "\n",
            "    accuracy                           0.99     10000\n",
            "   macro avg       0.99      0.99      0.99     10000\n",
            "weighted avg       0.99      0.99      0.99     10000\n",
            "\n"
          ]
        },
        {
          "output_type": "display_data",
          "data": {
            "image/png": "[encoded data removed]",
            "text/plain": [
              "<Figure size 1152x230.4 with 5 Axes>"
            ]
          },
          "metadata": {
            "needs_background": "light"
          }
        },
        {
          "output_type": "display_data",
          "data": {
            "image/png": "[encoded data removed]",
            "text/plain": [
              "<Figure size 1152x230.4 with 5 Axes>"
            ]
          },
          "metadata": {
            "needs_background": "light"
          }
        }
      ]
    },
    {
      "cell_type": "markdown",
      "source": [
        "part 2: with batch size 100"
      ],
      "metadata": {
        "id": "44XFtxlnSvqI"
      }
    },
    {
      "cell_type": "code",
      "source": [
        "train_loader = DataLoader(all_train_data,\n",
        "                          batch_size=batch_size*2,\n",
        "                          sampler=SubsetRandomSampler(train_indices),\n",
        "                          generator=cpu_rng,\n",
        "                          num_workers=1,\n",
        "                          pin_memory=(device.type == \"coda:0\"),\n",
        "                          persistent_workers=True);\n",
        "\n",
        "def reset_net_parameters(model:nn.Sequential):\n",
        "    for layer in model.children():\n",
        "        if hasattr(layer, 'reset_parameters'):\n",
        "            layer.reset_parameters()\n",
        "\n",
        "model_5.apply(reset_net_parameters)\n",
        "model_5.apply(init_conv2d_weights)\n",
        "\n",
        "train(model_5, conv_lr)\n",
        "print_report(model_5, has_convolution=True, conv_layers_to_print=[1, 4])"
      ],
      "metadata": {
        "id": "Cu2OIkUlSeP5",
        "colab": {
          "base_uri": "https://localhost:8080/",
          "height": 1000
        },
        "outputId": "582790f5-92a4-4759-883f-b81f9619cbe1"
      },
      "execution_count": null,
      "outputs": [
        {
          "output_type": "stream",
          "name": "stdout",
          "text": [
            "time taken: 146.778 second(s)\n",
            "----------------------------------------------------------------\n",
            "        Layer (type)               Output Shape         Param #\n",
            "================================================================\n",
            "            Conv2d-1           [-1, 32, 28, 28]             832\n",
            "              ReLU-2           [-1, 32, 28, 28]               0\n",
            "         MaxPool2d-3           [-1, 32, 14, 14]               0\n",
            "            Conv2d-4           [-1, 64, 14, 14]          51,264\n",
            "              ReLU-5           [-1, 64, 14, 14]               0\n",
            "         MaxPool2d-6             [-1, 64, 7, 7]               0\n",
            "           Flatten-7                 [-1, 3136]               0\n",
            "           Dropout-8                 [-1, 3136]               0\n",
            "            Linear-9                 [-1, 1024]       3,212,288\n",
            "             ReLU-10                 [-1, 1024]               0\n",
            "           Linear-11                   [-1, 10]          10,250\n",
            "================================================================\n",
            "Total params: 3,274,634\n",
            "Trainable params: 3,274,634\n",
            "Non-trainable params: 0\n",
            "----------------------------------------------------------------\n",
            "Input size (MB): 0.00\n",
            "Forward/backward pass size (MB): 0.71\n",
            "Params size (MB): 12.49\n",
            "Estimated Total Size (MB): 13.20\n",
            "----------------------------------------------------------------\n",
            "model scores:\n",
            "data set: train\n",
            "              precision    recall  f1-score   support\n",
            "\n",
            "    Label: 0       0.99      1.00      1.00      4927\n",
            "    Label: 1       0.99      1.00      0.99      5594\n",
            "    Label: 2       0.99      1.00      0.99      4959\n",
            "    Label: 3       0.99      0.99      0.99      5126\n",
            "    Label: 4       0.99      0.98      0.99      4923\n",
            "    Label: 5       0.99      0.99      0.99      4516\n",
            "    Label: 6       0.99      1.00      0.99      4938\n",
            "    Label: 7       0.99      0.99      0.99      5201\n",
            "    Label: 8       0.98      0.98      0.98      4865\n",
            "    Label: 9       0.99      0.98      0.98      4951\n",
            "\n",
            "    accuracy                           0.99     50000\n",
            "   macro avg       0.99      0.99      0.99     50000\n",
            "weighted avg       0.99      0.99      0.99     50000\n",
            "\n",
            "data set: validation\n",
            "              precision    recall  f1-score   support\n",
            "\n",
            "    Label: 0       0.99      0.99      0.99       996\n",
            "    Label: 1       0.99      0.99      0.99      1148\n",
            "    Label: 2       0.98      0.98      0.98       999\n",
            "    Label: 3       0.98      0.98      0.98      1005\n",
            "    Label: 4       0.99      0.98      0.98       919\n",
            "    Label: 5       0.98      0.98      0.98       905\n",
            "    Label: 6       0.98      0.99      0.99       980\n",
            "    Label: 7       0.98      0.99      0.98      1064\n",
            "    Label: 8       0.98      0.96      0.97       986\n",
            "    Label: 9       0.98      0.98      0.98       998\n",
            "\n",
            "    accuracy                           0.98     10000\n",
            "   macro avg       0.98      0.98      0.98     10000\n",
            "weighted avg       0.98      0.98      0.98     10000\n",
            "\n",
            "data set: test\n",
            "              precision    recall  f1-score   support\n",
            "\n",
            "    Label: 0       0.98      0.99      0.99       980\n",
            "    Label: 1       0.99      0.99      0.99      1135\n",
            "    Label: 2       0.98      0.99      0.99      1032\n",
            "    Label: 3       0.98      0.99      0.98      1010\n",
            "    Label: 4       0.99      0.98      0.98       982\n",
            "    Label: 5       0.98      0.98      0.98       892\n",
            "    Label: 6       0.98      0.99      0.99       958\n",
            "    Label: 7       0.99      0.98      0.98      1028\n",
            "    Label: 8       0.98      0.97      0.98       974\n",
            "    Label: 9       0.97      0.97      0.97      1009\n",
            "\n",
            "    accuracy                           0.98     10000\n",
            "   macro avg       0.98      0.98      0.98     10000\n",
            "weighted avg       0.98      0.98      0.98     10000\n",
            "\n"
          ]
        },
        {
          "output_type": "display_data",
          "data": {
            "image/png": "[encoded data removed]",
            "text/plain": [
              "<Figure size 1152x230.4 with 5 Axes>"
            ]
          },
          "metadata": {
            "needs_background": "light"
          }
        },
        {
          "output_type": "display_data",
          "data": {
            "image/png": "[encoded data removed]",
            "text/plain": [
              "<Figure size 1152x230.4 with 5 Axes>"
            ]
          },
          "metadata": {
            "needs_background": "light"
          }
        }
      ]
    }
  ]
}